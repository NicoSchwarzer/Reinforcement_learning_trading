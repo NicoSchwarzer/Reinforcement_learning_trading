{
 "cells": [
  {
   "cell_type": "code",
   "execution_count": null,
   "metadata": {},
   "outputs": [],
   "source": [
    "### Market Environment Jupyter File"
   ]
  },
  {
   "cell_type": "code",
   "execution_count": 1,
   "metadata": {},
   "outputs": [],
   "source": [
    "import os \n"
   ]
  },
  {
   "cell_type": "code",
   "execution_count": 2,
   "metadata": {},
   "outputs": [
    {
     "name": "stdout",
     "output_type": "stream",
     "text": [
      "c:\\Users\\Nico\\Documents\\Uni\\RL\\Trading_Example\n"
     ]
    }
   ],
   "source": [
    "os.chdir(os.getcwd())\n",
    "print(os.getcwd())"
   ]
  },
  {
   "cell_type": "code",
   "execution_count": 7,
   "metadata": {},
   "outputs": [
    {
     "data": {
      "text/plain": [
       "[1, 2, 4, 1, 2, 4, 1, 2, 4]"
      ]
     },
     "execution_count": 7,
     "metadata": {},
     "output_type": "execute_result"
    }
   ],
   "source": [
    "a = [1,2,4]\n",
    "\n",
    "3 * a"
   ]
  },
  {
   "cell_type": "code",
   "execution_count": null,
   "metadata": {},
   "outputs": [],
   "source": [
    "import numpy as np \n",
    "import pandas as pd \n",
    "\n",
    "\n",
    "class Market:\n",
    "    def __init__(self, window_size, stock_name):\n",
    "        self.data = self.get_stock_data(stock_name)\n",
    "        self.states = self.get_all_window_prices_diff(self.data, window_size)\n",
    "        self.index = -1\n",
    "        self.last_data_index = len(self.data) - 1 \n",
    "\n",
    "    def get_stock_data(self, stock_name):\n",
    "        vec = []\n",
    "        # creating list of lines - splitted\n",
    "        lines = open(\"/data/\" + stock_name + \".csv\", \"r\").read().splitlines()\n",
    "        for line in lines[1:]:\n",
    "            vec.append(float(line.split(',')[4]))\n",
    "\n",
    "        return vec\n",
    "\n",
    "    def get_all_window_prices_diff(self, data, window_size):\n",
    "        # Preprocsssing data to create list of states \n",
    "\n",
    "        processed_data = []\n",
    "\n",
    "        for t in range(len(data)):\n",
    "            state = self.get_window(data, window_size + 1)\n",
    "            processed_data.append(state)\n",
    "        \n",
    "        return processed_data\n",
    "    \n",
    "    def get_window(self, data, t, n):\n",
    "        # t - index of data\n",
    "        # n - window size + 1 \n",
    "\n",
    "        d = t - n + 1 # window block for each day \n",
    "        block = data[d:t+1] if d >= 0 else -d * [data[0] + data[0:t+1]]\n",
    "        res = []\n",
    "        for i in range(n-1):\n",
    "            res.append(block[i+1]-block[i])\n",
    "        \n",
    "        return np.array([res])\n",
    "\n",
    "    def reset(self):\n",
    "        self.index = -1 \n",
    "        return self.states[0], self.data[0]\n",
    "    \n",
    "    def get_next_state_reward(self, action, bought_price=None):\n",
    "        # bought price only require for action = selling \n",
    "\n",
    "        self.index += 1 \n",
    "        if self.index > self.last_data_index: # only checking \n",
    "            self.index = 0\n",
    "\n",
    "        next_state = self.states[self.index +1]\n",
    "        next_price_data = self.data[self.index + 1]\n",
    "\n",
    "        price_data = self.data[self.index]\n",
    "        reward = 0 \n",
    "        # in case of selling - 2 // 0 holding // 1 buying \n",
    "        if action == 2 and bought_price is not None:\n",
    "            reward = max(price_data - bought_price, 0) # just positive rewards \n",
    "\n",
    "        done = True if self.index == self.last_data_index - 1 else False \n",
    "\n",
    "        return next_state, next_price_data, reward, done \n",
    "    \n",
    "\n",
    "\n",
    "        \n",
    "\n",
    "\n",
    "\n",
    "\n",
    "\n"
   ]
  }
 ],
 "metadata": {
  "kernelspec": {
   "display_name": "Python 3",
   "language": "python",
   "name": "python3"
  },
  "language_info": {
   "codemirror_mode": {
    "name": "ipython",
    "version": 3
   },
   "file_extension": ".py",
   "mimetype": "text/x-python",
   "name": "python",
   "nbconvert_exporter": "python",
   "pygments_lexer": "ipython3",
   "version": "3.9.5"
  },
  "orig_nbformat": 4
 },
 "nbformat": 4,
 "nbformat_minor": 2
}
